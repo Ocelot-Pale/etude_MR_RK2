{
 "cells": [
  {
   "cell_type": "code",
   "execution_count": 2,
   "id": "009e9e65",
   "metadata": {},
   "outputs": [],
   "source": [
    "import sympy as sp \n",
    "from sympy import Derivative\n",
    "from IPython.display import display, Math\n",
    "\n",
    "from libs.display import *\n",
    "from libs.utils_sympy import *\n",
    "from libs.reconstruction_amr import * \n",
    "DEBUG = 0\n",
    "ORDER_SERIES = 4 # ordre des développements limités. \n",
    "DT_FROM_CFL = 0 # choisir si on défini dt à partir de la CFL ou si l'on défini la CFL à partir de dt. \n",
    "CAUCHY_KOVALESKAYA = 1\n",
    "D = sp.Symbol(\"D\", real=True) #Coefficient de diffusion\n",
    "x, t = sp.symbols(\"x t\", real=True)#Varaiables espace-temps\n",
    "dx = sp.Symbol(r\"\\Delta x\", real=True)#Pas de discrétisation spatial (niveau fin et grille uniforme)\n",
    "u = sp.Function(\"u\")#Fonction \"régulière\" vérifiant le schéma\n",
    "\n",
    "if DT_FROM_CFL :\n",
    "    CFL_DIFF = sp.Symbol(r\"\\lambda\", real=True)\n",
    "    dt = dx**2 * CFL_DIFF / D\n",
    "else : \n",
    "    dt = sp.Symbol(r\"\\Delta t\", real=True)\n",
    "    CFL_DIFF = D * dt / dx**2\n",
    "CFL_DIFF = D * dt / dx**2 "
   ]
  },
  {
   "cell_type": "code",
   "execution_count": 3,
   "id": "4946c23e",
   "metadata": {},
   "outputs": [],
   "source": [
    "u_xplus1 = developpement_taylor_spatial(u,+dx,ORDER_SERIES,x,t) # développement de Taylor en espace en x+dx\n",
    "u_xplus2 = developpement_taylor_spatial(u,+2*dx,ORDER_SERIES,x,t) # développement de Taylor en espace en x+2dx\n",
    "u_xmoins1 = developpement_taylor_spatial(u,-dx,ORDER_SERIES,x,t) # développement de Taylor en espace en x-dx\n",
    "u_xmoins2 = developpement_taylor_spatial(u,-2*dx,ORDER_SERIES,x,t) # développement de Taylor en espace en x-2dx\n",
    "reste_serie_en_temps =((developpement_taylor_temps(u,dt,ORDER_SERIES,x,t) - u(x,t))/dt - sp.diff(u(x,t),t)).expand() # Erreur résiduelle lorsque l'on approxime du/dt = (u^t+1 - u^t)/dt\n",
    "derivee_temporelle = sp.diff(u(x, t), t) # dérivée temporelle d'ordre 1\n"
   ]
  },
  {
   "cell_type": "code",
   "execution_count": null,
   "id": "62f3a814",
   "metadata": {},
   "outputs": [
    {
     "name": "stdout",
     "output_type": "stream",
     "text": [
      "Eq modifée temps-espace RKE1\n"
     ]
    },
    {
     "data": {
      "text/latex": [
       "$\\displaystyle \\frac{\\partial}{\\partial t} u{\\left(x,t \\right)} = - \\frac{D^{4} \\Delta t^{3} \\frac{\\partial^{8}}{\\partial x^{8}} u{\\left(x,t \\right)}}{24} - \\frac{D^{3} \\Delta t^{2} \\frac{\\partial^{6}}{\\partial x^{6}} u{\\left(x,t \\right)}}{6} - \\frac{D^{2} \\Delta t \\frac{\\partial^{4}}{\\partial x^{4}} u{\\left(x,t \\right)}}{2} + \\frac{D \\Delta x^{2} \\frac{\\partial^{4}}{\\partial x^{4}} u{\\left(x,t \\right)}}{12} + D \\frac{\\partial^{2}}{\\partial x^{2}} u{\\left(x,t \\right)}$"
      ],
      "text/plain": [
       "<IPython.core.display.Math object>"
      ]
     },
     "metadata": {},
     "output_type": "display_data"
    },
    {
     "name": "stdout",
     "output_type": "stream",
     "text": [
      "Eq modifée temps-espace RKE2\n"
     ]
    },
    {
     "data": {
      "text/latex": [
       "$\\displaystyle \\frac{\\partial}{\\partial t} u{\\left(x,t \\right)} = - \\frac{D^{4} \\Delta t^{3} \\frac{\\partial^{8}}{\\partial x^{8}} u{\\left(x,t \\right)}}{24} - \\frac{D^{3} \\Delta t^{2} \\frac{\\partial^{6}}{\\partial x^{6}} u{\\left(x,t \\right)}}{6} + \\frac{D \\Delta x^{2} \\frac{\\partial^{4}}{\\partial x^{4}} u{\\left(x,t \\right)}}{12} + D \\frac{\\partial^{2}}{\\partial x^{2}} u{\\left(x,t \\right)}$"
      ],
      "text/plain": [
       "<IPython.core.display.Math object>"
      ]
     },
     "metadata": {},
     "output_type": "display_data"
    },
    {
     "name": "stdout",
     "output_type": "stream",
     "text": [
      "Eq modifée temps-espace Version Christian\n"
     ]
    },
    {
     "data": {
      "text/latex": [
       "$\\displaystyle \\frac{\\partial}{\\partial t} u{\\left(x,t \\right)} = - \\frac{D^{4} \\Delta t^{3} \\frac{\\partial^{8}}{\\partial x^{8}} u{\\left(x,t \\right)}}{24} - \\frac{D^{3} \\Delta t^{2} \\frac{\\partial^{6}}{\\partial x^{6}} u{\\left(x,t \\right)}}{6} + D \\frac{\\partial^{2}}{\\partial x^{2}} u{\\left(x,t \\right)}$"
      ],
      "text/plain": [
       "<IPython.core.display.Math object>"
      ]
     },
     "metadata": {},
     "output_type": "display_data"
    }
   ],
   "source": [
    "\n",
    "# Méthode des lignes RK1\n",
    "print(\"Eq modifée temps-espace RKE1\")\n",
    "flux_total_sans_AMR_RK1 = (CFL_DIFF * \n",
    "                           (u_xplus1 - 2*u(x,t) + u_xmoins1)).expand()\n",
    "u_t_RK1 = - reste_serie_en_temps + 1/dt*flux_total_sans_AMR_RK1\n",
    "u_t_RK1 = u_t_RK1.expand()\n",
    "u_t_RK1 = apply_cauchy_kovaleskaya(u_t_RK1,u,x,t,D,ORDER_SERIES)\n",
    "eq_sans_AMR_RK1 = f\"{sp.latex(derivee_temporelle)} = {sp.latex(u_t_RK1)}\"\n",
    "display(Math(eq_sans_AMR_RK1))\n",
    "\n",
    "# Méthode des lignes RK2\n",
    "print(\"Eq modifée temps-espace RKE2\")\n",
    "flux_total_sans_AMR = CFL_DIFF*(\n",
    "                       (u_xplus1 - 2*u(x,t) + u_xmoins1) \n",
    "                       +sp.Rational(1,2) * CFL_DIFF*(u_xplus2 - 4*u_xplus1 + 6*u(x,t) - 4*u_xmoins1 + u_xmoins2)\n",
    "                       ).expand()\n",
    "u_t = - reste_serie_en_temps +(1/dt) * flux_total_sans_AMR # équation équivalente brute. \n",
    "u_t = u_t.expand()\n",
    "u_t = apply_cauchy_kovaleskaya(u_t,u,x,t,D,ORDER_SERIES)\n",
    "second_membre = rendreJoli(u_t,u,x,t,dx,dt,ORDER_SERIES)\n",
    "eq_sans_AMR_Latex = f\"{sp.latex(derivee_temporelle)} = {sp.latex(u_t)}\"\n",
    "display(Math(eq_sans_AMR_Latex))\n",
    "\n",
    "### Christian \n",
    "print(\"Eq modifée temps-espace Version Christian\")\n",
    "flux_total_sans_AMR_Chr = CFL_DIFF*((u_xplus1 - 2*u(x,t) + u_xmoins1)\n",
    "                           +sp.Rational(1,2)*(CFL_DIFF - sp.Rational(1,6))* (u_xplus2 - 4*u_xplus1 + 6*u(x,t) - 4*u_xmoins1 + u_xmoins2)).expand()\n",
    "u_t_Chr = - reste_serie_en_temps + 1/dt*flux_total_sans_AMR_Chr\n",
    "u_t_Chr = u_t_Chr.expand()\n",
    "u_t_Chr = apply_cauchy_kovaleskaya(u_t_Chr,u,x,t,D,ORDER_SERIES)\n",
    "eq_sans_AMR_Chr = f\"{sp.latex(derivee_temporelle)} = {sp.latex(u_t_Chr)}\"\n",
    "display(Math(eq_sans_AMR_Chr))"
   ]
  },
  {
   "cell_type": "markdown",
   "id": "3a7ed61f",
   "metadata": {},
   "source": [
    "# Introduction of MRA"
   ]
  },
  {
   "cell_type": "code",
   "execution_count": 5,
   "id": "03909adf",
   "metadata": {},
   "outputs": [
    {
     "name": "stdout",
     "output_type": "stream",
     "text": [
      "--------------------------------------  EQUA. MODIFIEES [RK1] --------------------------------------\n",
      "\n",
      "       *   SANS Multi-Résolution   ❌\n",
      "\n"
     ]
    },
    {
     "data": {
      "text/latex": [
       "$\\displaystyle \\frac{\\partial}{\\partial t} u{\\left(x,t \\right)} = - \\frac{D^{4} \\Delta t^{3} \\frac{\\partial^{8}}{\\partial x^{8}} u{\\left(x,t \\right)}}{24} - \\frac{D^{3} \\Delta t^{2} \\frac{\\partial^{6}}{\\partial x^{6}} u{\\left(x,t \\right)}}{6} + \\frac{D \\Delta x^{2} \\frac{\\partial^{4}}{\\partial x^{4}} u{\\left(x,t \\right)}}{12} + D \\frac{\\partial^{2}}{\\partial x^{2}} u{\\left(x,t \\right)}$"
      ],
      "text/plain": [
       "<IPython.core.display.Math object>"
      ]
     },
     "metadata": {},
     "output_type": "display_data"
    },
    {
     "name": "stdout",
     "output_type": "stream",
     "text": [
      "\n",
      "       *  AVEC Multi-Résolution    ✅\n"
     ]
    },
    {
     "data": {
      "text/latex": [
       "$\\displaystyle \\frac{\\partial}{\\partial t} u{\\left(x,t \\right)}=- \\frac{2^{2 \\Delta l} D \\Delta l \\Delta x^{2} \\frac{\\partial^{4}}{\\partial x^{4}} u{\\left(x,t \\right)}}{4} + \\frac{2^{2 \\Delta l} D \\Delta x^{2} \\frac{\\partial^{4}}{\\partial x^{4}} u{\\left(x,t \\right)}}{12} - \\frac{D^{4} \\Delta t^{3} \\frac{\\partial^{8}}{\\partial x^{8}} u{\\left(x,t \\right)}}{24} - \\frac{D^{3} \\Delta t^{2} \\frac{\\partial^{6}}{\\partial x^{6}} u{\\left(x,t \\right)}}{6} - \\frac{D^{2} \\Delta t \\frac{\\partial^{4}}{\\partial x^{4}} u{\\left(x,t \\right)}}{2} + D \\frac{\\partial^{2}}{\\partial x^{2}} u{\\left(x,t \\right)}$"
      ],
      "text/plain": [
       "<IPython.core.display.Math object>"
      ]
     },
     "metadata": {},
     "output_type": "display_data"
    },
    {
     "name": "stdout",
     "output_type": "stream",
     "text": [
      "--------------------------------------  EQUA. MODIFIEES [RK2] --------------------------------------\n",
      "\n",
      "       *   SANS Multi-Résolution   ❌\n",
      "\n"
     ]
    },
    {
     "data": {
      "text/latex": [
       "$\\displaystyle \\frac{\\partial}{\\partial t} u{\\left(x,t \\right)} = - \\frac{D^{4} \\Delta t^{3} \\frac{\\partial^{8}}{\\partial x^{8}} u{\\left(x,t \\right)}}{24} - \\frac{D^{3} \\Delta t^{2} \\frac{\\partial^{6}}{\\partial x^{6}} u{\\left(x,t \\right)}}{6} + \\frac{D \\Delta x^{2} \\frac{\\partial^{4}}{\\partial x^{4}} u{\\left(x,t \\right)}}{12} + D \\frac{\\partial^{2}}{\\partial x^{2}} u{\\left(x,t \\right)}$"
      ],
      "text/plain": [
       "<IPython.core.display.Math object>"
      ]
     },
     "metadata": {},
     "output_type": "display_data"
    },
    {
     "name": "stdout",
     "output_type": "stream",
     "text": [
      "\n",
      "       *  AVEC Multi-Résolution   ✅\n"
     ]
    },
    {
     "data": {
      "text/latex": [
       "$\\displaystyle \\frac{\\partial}{\\partial t} u{\\left(x,t \\right)}=\\frac{2^{2 \\Delta l} D^{2} \\Delta t \\frac{\\partial^{4}}{\\partial x^{4}} u{\\left(x,t \\right)}}{2} - \\frac{2^{2 \\Delta l} D \\Delta l \\Delta x^{2} \\frac{\\partial^{4}}{\\partial x^{4}} u{\\left(x,t \\right)}}{4} + \\frac{2^{2 \\Delta l} D \\Delta x^{2} \\frac{\\partial^{4}}{\\partial x^{4}} u{\\left(x,t \\right)}}{12} - \\frac{D^{4} \\Delta t^{3} \\frac{\\partial^{8}}{\\partial x^{8}} u{\\left(x,t \\right)}}{24} - \\frac{D^{3} \\Delta t^{2} \\frac{\\partial^{6}}{\\partial x^{6}} u{\\left(x,t \\right)}}{6} - \\frac{D^{2} \\Delta t \\frac{\\partial^{4}}{\\partial x^{4}} u{\\left(x,t \\right)}}{2} + D \\frac{\\partial^{2}}{\\partial x^{2}} u{\\left(x,t \\right)}$"
      ],
      "text/plain": [
       "<IPython.core.display.Math object>"
      ]
     },
     "metadata": {},
     "output_type": "display_data"
    },
    {
     "name": "stdout",
     "output_type": "stream",
     "text": [
      "--------------------------------------  EQUA. MODIFIEES [RK2 - Christian] --------------------------------------\n",
      "\n",
      "       *   SANS Multi-Résolution   ❌\n",
      "\n"
     ]
    },
    {
     "data": {
      "text/latex": [
       "$\\displaystyle \\frac{\\partial}{\\partial t} u{\\left(x,t \\right)} = - \\frac{D^{4} \\Delta t^{3} \\frac{\\partial^{8}}{\\partial x^{8}} u{\\left(x,t \\right)}}{24} - \\frac{D^{3} \\Delta t^{2} \\frac{\\partial^{6}}{\\partial x^{6}} u{\\left(x,t \\right)}}{6} + \\frac{D \\Delta x^{2} \\frac{\\partial^{4}}{\\partial x^{4}} u{\\left(x,t \\right)}}{12} + D \\frac{\\partial^{2}}{\\partial x^{2}} u{\\left(x,t \\right)}$"
      ],
      "text/plain": [
       "<IPython.core.display.Math object>"
      ]
     },
     "metadata": {},
     "output_type": "display_data"
    },
    {
     "name": "stdout",
     "output_type": "stream",
     "text": [
      "\n",
      "       *  AVEC Multi-Résolution   ✅\n"
     ]
    },
    {
     "data": {
      "text/latex": [
       "$\\displaystyle \\frac{\\partial}{\\partial t} u{\\left(x,t \\right)}=\\frac{2^{2 \\Delta l} D^{2} \\Delta t \\frac{\\partial^{4}}{\\partial x^{4}} u{\\left(x,t \\right)}}{2} - \\frac{2^{2 \\Delta l} D \\Delta l \\Delta x^{2} \\frac{\\partial^{4}}{\\partial x^{4}} u{\\left(x,t \\right)}}{4} + D \\frac{\\partial^{2}}{\\partial x^{2}} u{\\left(x,t \\right)}$"
      ],
      "text/plain": [
       "<IPython.core.display.Math object>"
      ]
     },
     "metadata": {},
     "output_type": "display_data"
    }
   ],
   "source": [
    "s_hat = sp.Symbol('$\\hat s$', positive=True)\n",
    "deltal = sp.Symbol(u'\\\\Delta l', positive=True)\n",
    "dictionnary             = computeEqModif(u,x,t,deltal,dx,dt,D,CFL_DIFF,ORDER_SERIES,CAUCHY_KOVALESKAYA=CAUCHY_KOVALESKAYA,stencil=1,DEBUG=DEBUG)\n",
    "print(\"--------------------------------------  EQUA. MODIFIEES [RK1] --------------------------------------\")\n",
    "_,_,texRK1    = dictionnary[\"RK1\"]\n",
    "print(\"\\n       *   SANS Multi-Résolution   ❌\\n\")\n",
    "display(Math(eq_sans_AMR_Latex))\n",
    "print(\"\\n       *  AVEC Multi-Résolution    ✅\")\n",
    "display(Math(texRK1))\n",
    "\n",
    "print(\"--------------------------------------  EQUA. MODIFIEES [RK2] --------------------------------------\")\n",
    "_,_,texRK2             = dictionnary[\"RK2\"]\n",
    "print(\"\\n       *   SANS Multi-Résolution   ❌\\n\")\n",
    "display(Math(eq_sans_AMR_Latex))\n",
    "print(\"\\n       *  AVEC Multi-Résolution   ✅\")\n",
    "display(Math(texRK2))\n",
    "\n",
    "print(\"--------------------------------------  EQUA. MODIFIEES [RK2 - Christian] --------------------------------------\")\n",
    "_,_,texChristian             = dictionnary[\"Christian\"]\n",
    "print(\"\\n       *   SANS Multi-Résolution   ❌\\n\")\n",
    "display(Math(eq_sans_AMR_Latex))\n",
    "print(\"\\n       *  AVEC Multi-Résolution   ✅\")\n",
    "display(Math(texChristian))"
   ]
  }
 ],
 "metadata": {
  "kernelspec": {
   "display_name": "toy_models",
   "language": "python",
   "name": "python3"
  },
  "language_info": {
   "codemirror_mode": {
    "name": "ipython",
    "version": 3
   },
   "file_extension": ".py",
   "mimetype": "text/x-python",
   "name": "python",
   "nbconvert_exporter": "python",
   "pygments_lexer": "ipython3",
   "version": "3.11.12"
  }
 },
 "nbformat": 4,
 "nbformat_minor": 5
}
